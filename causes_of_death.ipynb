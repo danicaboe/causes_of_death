{
 "cells": [
  {
   "cell_type": "code",
   "execution_count": 1,
   "metadata": {},
   "outputs": [
    {
     "name": "stdout",
     "output_type": "stream",
     "text": [
      "       Country/Territory  Code         Year    Meningitis  \\\n",
      "count               6120  6120  6120.000000   6120.000000   \n",
      "unique               204   204          NaN           NaN   \n",
      "top          Afghanistan   AFG          NaN           NaN   \n",
      "freq                  30    30          NaN           NaN   \n",
      "mean                 NaN   NaN  2004.500000   1719.701307   \n",
      "std                  NaN   NaN     8.656149   6672.006930   \n",
      "min                  NaN   NaN  1990.000000      0.000000   \n",
      "25%                  NaN   NaN  1997.000000     15.000000   \n",
      "50%                  NaN   NaN  2004.500000    109.000000   \n",
      "75%                  NaN   NaN  2012.000000    847.250000   \n",
      "max                  NaN   NaN  2019.000000  98358.000000   \n",
      "\n",
      "        Alzheimer's Disease and Other Dementias  Parkinson's Disease  \\\n",
      "count                               6120.000000          6120.000000   \n",
      "unique                                      NaN                  NaN   \n",
      "top                                         NaN                  NaN   \n",
      "freq                                        NaN                  NaN   \n",
      "mean                                4864.189379          1173.169118   \n",
      "std                                18220.659072          4616.156238   \n",
      "min                                    0.000000             0.000000   \n",
      "25%                                   90.000000            27.000000   \n",
      "50%                                  666.500000           164.000000   \n",
      "75%                                 2456.250000           609.250000   \n",
      "max                               320715.000000         76990.000000   \n",
      "\n",
      "        Nutritional Deficiencies        Malaria       Drowning  \\\n",
      "count                6120.000000    6120.000000    6120.000000   \n",
      "unique                       NaN            NaN            NaN   \n",
      "top                          NaN            NaN            NaN   \n",
      "freq                         NaN            NaN            NaN   \n",
      "mean                 2253.600000    4140.960131    1683.333170   \n",
      "std                 10483.633601   18427.753137    8877.018366   \n",
      "min                     0.000000       0.000000       0.000000   \n",
      "25%                     9.000000       0.000000      34.000000   \n",
      "50%                   119.000000       0.000000     177.000000   \n",
      "75%                  1167.250000     393.000000     698.000000   \n",
      "max                268223.000000  280604.000000  153773.000000   \n",
      "\n",
      "        Interpersonal Violence  ...  Diabetes Mellitus  \\\n",
      "count              6120.000000  ...        6120.000000   \n",
      "unique                     NaN  ...                NaN   \n",
      "top                        NaN  ...                NaN   \n",
      "freq                       NaN  ...                NaN   \n",
      "mean               2083.797222  ...        5138.704575   \n",
      "std                6917.006075  ...       16773.081040   \n",
      "min                   0.000000  ...           1.000000   \n",
      "25%                  40.000000  ...         236.000000   \n",
      "50%                 265.000000  ...        1087.000000   \n",
      "75%                 877.000000  ...        2954.000000   \n",
      "max               69640.000000  ...      273089.000000   \n",
      "\n",
      "        Chronic Kidney Disease    Poisonings  Protein-Energy Malnutrition  \\\n",
      "count              6120.000000   6120.000000                  6120.000000   \n",
      "unique                     NaN           NaN                          NaN   \n",
      "top                        NaN           NaN                          NaN   \n",
      "freq                       NaN           NaN                          NaN   \n",
      "mean               4724.132680    425.013399                  1965.994281   \n",
      "std               16470.429969   2022.640521                  8255.999063   \n",
      "min                   0.000000      0.000000                     0.000000   \n",
      "25%                 145.750000      6.000000                     5.000000   \n",
      "50%                 822.000000     52.500000                    92.000000   \n",
      "75%                2922.500000    254.000000                  1042.500000   \n",
      "max              222922.000000  30883.000000                202241.000000   \n",
      "\n",
      "        Road Injuries  Chronic Respiratory Diseases  \\\n",
      "count     6120.000000                  6.120000e+03   \n",
      "unique            NaN                           NaN   \n",
      "top               NaN                           NaN   \n",
      "freq              NaN                           NaN   \n",
      "mean      5930.795588                  1.709237e+04   \n",
      "std      24097.784291                  1.051572e+05   \n",
      "min          0.000000                  1.000000e+00   \n",
      "25%        174.750000                  2.890000e+02   \n",
      "50%        966.500000                  1.689000e+03   \n",
      "75%       3435.250000                  5.249750e+03   \n",
      "max     329237.000000                  1.366039e+06   \n",
      "\n",
      "        Cirrhosis and Other Chronic Liver Diseases  Digestive Diseases  \\\n",
      "count                                  6120.000000         6120.000000   \n",
      "unique                                         NaN                 NaN   \n",
      "top                                            NaN                 NaN   \n",
      "freq                                           NaN                 NaN   \n",
      "mean                                   6124.072059        10725.267157   \n",
      "std                                   20688.118580        37228.051096   \n",
      "min                                       0.000000            0.000000   \n",
      "25%                                     154.000000          284.000000   \n",
      "50%                                    1210.000000         2185.000000   \n",
      "75%                                    3547.250000         6080.000000   \n",
      "max                                  270037.000000       464914.000000   \n",
      "\n",
      "        Fire, Heat, and Hot Substances  Acute Hepatitis  \n",
      "count                      6120.000000      6120.000000  \n",
      "unique                             NaN              NaN  \n",
      "top                                NaN              NaN  \n",
      "freq                               NaN              NaN  \n",
      "mean                        588.711438       618.429902  \n",
      "std                        2128.595120      4186.023497  \n",
      "min                           0.000000         0.000000  \n",
      "25%                          17.000000         2.000000  \n",
      "50%                         126.000000        15.000000  \n",
      "75%                         450.000000       160.000000  \n",
      "max                       25876.000000     64305.000000  \n",
      "\n",
      "[11 rows x 34 columns]\n"
     ]
    }
   ],
   "source": [
    "import numpy as np\n",
    "import pandas as pd\n",
    "import statistics as stat\n",
    "import matplotlib.pyplot as plt\n",
    "import seaborn as sns\n",
    "\n",
    "df = pd.read_csv('data_files/cause_of_deaths.csv')\n",
    "# print(df.head(10))\n",
    "print(df.describe(include='all'))\n"
   ]
  },
  {
   "cell_type": "code",
   "execution_count": 33,
   "metadata": {},
   "outputs": [
    {
     "name": "stdout",
     "output_type": "stream",
     "text": [
      "['country', 'country_code', 'year', 'meningitis', 'dementia', \"parkinson's_disease\", 'nutritional_deficiencies', 'malaria', 'drowning', 'interpersonal_violence', 'maternal_disorders', 'hiv/aids', 'drug_use_disorders', 'tuberculosis', 'cardiovascular_diseases', 'lower_respiratory_infections', 'neonatal_disorders', 'alcohol_use_disorders', 'self_harm', 'exposure_to_forces_of_nature', 'diarrheal_diseases', 'environmental_heat_and_cold_exposure', 'neoplasms', 'conflict_and_terrorism', 'diabetes_mellitus', 'chronic_kidney_disease', 'poisonings', 'protein_malnutrition', 'road_injuries', 'chronic_respiratory_diseases', 'cirrhosis_and_other_chronic_liver_diseases', 'digestive_diseases', 'fire_heat', 'acute_hepatitis']\n",
      "204\n"
     ]
    }
   ],
   "source": [
    "# Save list of column in variable to view\n",
    "columns = list(df.columns)\n",
    "print(columns)\n",
    "# create variable to see all the unique countries that are represented.\n",
    "countries = df['country'].unique()\n",
    "# Print the number of unique countries\n",
    "print(df['country'].nunique())\n",
    "# rename specific columns that have unusual charcters or redundunt naming convention or commas.\n",
    "df.rename(columns= {'Country/Territory': 'country', 'Code' : 'country_code', 'Protein-Energy Malnutrition': 'protein_malnutrition', 'Alzheimer\\'s Disease and Other Dementias' : 'dementia', 'Self-harm': 'self_harm', 'Fire, Heat, and Hot Substances': 'fire_heat'}, inplace=True)\n"
   ]
  },
  {
   "cell_type": "markdown",
   "metadata": {},
   "source": [
    "Edit all column names - change all to lower and replace spaces with underscores."
   ]
  },
  {
   "cell_type": "code",
   "execution_count": 32,
   "metadata": {},
   "outputs": [
    {
     "name": "stdout",
     "output_type": "stream",
     "text": [
      "Index(['country', 'country_code', 'year', 'meningitis', 'dementia',\n",
      "       'parkinson's_disease', 'nutritional_deficiencies', 'malaria',\n",
      "       'drowning', 'interpersonal_violence', 'maternal_disorders', 'hiv/aids',\n",
      "       'drug_use_disorders', 'tuberculosis', 'cardiovascular_diseases',\n",
      "       'lower_respiratory_infections', 'neonatal_disorders',\n",
      "       'alcohol_use_disorders', 'self_harm', 'exposure_to_forces_of_nature',\n",
      "       'diarrheal_diseases', 'environmental_heat_and_cold_exposure',\n",
      "       'neoplasms', 'conflict_and_terrorism', 'diabetes_mellitus',\n",
      "       'chronic_kidney_disease', 'poisonings', 'protein_malnutrition',\n",
      "       'road_injuries', 'chronic_respiratory_diseases',\n",
      "       'cirrhosis_and_other_chronic_liver_diseases', 'digestive_diseases',\n",
      "       'fire_heat', 'acute_hepatitis'],\n",
      "      dtype='object')\n"
     ]
    }
   ],
   "source": [
    "df.columns = df.columns.str.lower().str.strip().str.replace(' ', '_')\n",
    "print(df.columns)"
   ]
  },
  {
   "cell_type": "markdown",
   "metadata": {},
   "source": [
    "See how many years are represented in the data. Check data type for each column."
   ]
  },
  {
   "cell_type": "code",
   "execution_count": 42,
   "metadata": {},
   "outputs": [
    {
     "name": "stdout",
     "output_type": "stream",
     "text": [
      "[1990 1991 1992 1993 1994 1995 1996 1997 1998 1999 2000 2001 2002 2003\n",
      " 2004 2005 2006 2007 2008 2009 2010 2011 2012 2013 2014 2015 2016 2017\n",
      " 2018 2019]\n",
      "<class 'pandas.core.frame.DataFrame'>\n",
      "RangeIndex: 6120 entries, 0 to 6119\n",
      "Data columns (total 34 columns):\n",
      " #   Column                                      Non-Null Count  Dtype \n",
      "---  ------                                      --------------  ----- \n",
      " 0   country                                     6120 non-null   object\n",
      " 1   country_code                                6120 non-null   object\n",
      " 2   year                                        6120 non-null   int64 \n",
      " 3   meningitis                                  6120 non-null   int64 \n",
      " 4   dementia                                    6120 non-null   int64 \n",
      " 5   parkinson's_disease                         6120 non-null   int64 \n",
      " 6   nutritional_deficiencies                    6120 non-null   int64 \n",
      " 7   malaria                                     6120 non-null   int64 \n",
      " 8   drowning                                    6120 non-null   int64 \n",
      " 9   interpersonal_violence                      6120 non-null   int64 \n",
      " 10  maternal_disorders                          6120 non-null   int64 \n",
      " 11  hiv/aids                                    6120 non-null   int64 \n",
      " 12  drug_use_disorders                          6120 non-null   int64 \n",
      " 13  tuberculosis                                6120 non-null   int64 \n",
      " 14  cardiovascular_diseases                     6120 non-null   int64 \n",
      " 15  lower_respiratory_infections                6120 non-null   int64 \n",
      " 16  neonatal_disorders                          6120 non-null   int64 \n",
      " 17  alcohol_use_disorders                       6120 non-null   int64 \n",
      " 18  self_harm                                   6120 non-null   int64 \n",
      " 19  exposure_to_forces_of_nature                6120 non-null   int64 \n",
      " 20  diarrheal_diseases                          6120 non-null   int64 \n",
      " 21  environmental_heat_and_cold_exposure        6120 non-null   int64 \n",
      " 22  neoplasms                                   6120 non-null   int64 \n",
      " 23  conflict_and_terrorism                      6120 non-null   int64 \n",
      " 24  diabetes_mellitus                           6120 non-null   int64 \n",
      " 25  chronic_kidney_disease                      6120 non-null   int64 \n",
      " 26  poisonings                                  6120 non-null   int64 \n",
      " 27  protein_malnutrition                        6120 non-null   int64 \n",
      " 28  road_injuries                               6120 non-null   int64 \n",
      " 29  chronic_respiratory_diseases                6120 non-null   int64 \n",
      " 30  cirrhosis_and_other_chronic_liver_diseases  6120 non-null   int64 \n",
      " 31  digestive_diseases                          6120 non-null   int64 \n",
      " 32  fire_heat                                   6120 non-null   int64 \n",
      " 33  acute_hepatitis                             6120 non-null   int64 \n",
      "dtypes: int64(32), object(2)\n",
      "memory usage: 1.6+ MB\n",
      "None\n"
     ]
    }
   ],
   "source": [
    "years = df.year.unique()\n",
    "print(years)\n",
    "print(df.info())"
   ]
  },
  {
   "cell_type": "markdown",
   "metadata": {},
   "source": [
    "Check for null values in each column."
   ]
  },
  {
   "cell_type": "code",
   "execution_count": null,
   "metadata": {},
   "outputs": [],
   "source": []
  }
 ],
 "metadata": {
  "kernelspec": {
   "display_name": "Python 3.9.13 ('myenv')",
   "language": "python",
   "name": "python3"
  },
  "language_info": {
   "codemirror_mode": {
    "name": "ipython",
    "version": 3
   },
   "file_extension": ".py",
   "mimetype": "text/x-python",
   "name": "python",
   "nbconvert_exporter": "python",
   "pygments_lexer": "ipython3",
   "version": "3.9.13"
  },
  "orig_nbformat": 4,
  "vscode": {
   "interpreter": {
    "hash": "c3d8a8be75f9e7e90c92f56a26dc284ac664b6f4edfe25f866cebb8c85a664d9"
   }
  }
 },
 "nbformat": 4,
 "nbformat_minor": 2
}
