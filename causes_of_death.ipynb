{
 "cells": [
  {
   "cell_type": "code",
   "execution_count": 48,
   "metadata": {},
   "outputs": [],
   "source": [
    "# pip install psychopg2\n",
    "import psycopg2 as ps\n",
    "import numpy as np\n",
    "import pandas as pd\n",
    "import statistics as stat\n",
    "import matplotlib.pyplot as plt\n",
    "import seaborn as sns\n",
    "\n",
    "df = pd.read_csv('data_files/cause_of_deaths.csv', index_col=0)\n",
    "# print(df.head(10))\n",
    "# print(df.describe(include='all'))\n"
   ]
  },
  {
   "cell_type": "markdown",
   "metadata": {},
   "source": [
    "Upload data to a AWS postgresSQL database."
   ]
  },
  {
   "cell_type": "code",
   "execution_count": null,
   "metadata": {},
   "outputs": [],
   "source": [
    "def connect_to_db(host_name, dbname, port, username, password):\n",
    "    try:\n",
    "        conn = ps.connect(host=host_name, database=dbname, user=username, password=password, port=port)\n",
    "    except ps.OperationError as e:\n",
    "        raise e\n",
    "    else:\n",
    "        print('Connected!')\n",
    "    return conn"
   ]
  },
  {
   "cell_type": "code",
   "execution_count": 49,
   "metadata": {},
   "outputs": [
    {
     "ename": "NameError",
     "evalue": "name 'connect_to_db' is not defined",
     "output_type": "error",
     "traceback": [
      "\u001b[0;31m---------------------------------------------------------------------------\u001b[0m",
      "\u001b[0;31mNameError\u001b[0m                                 Traceback (most recent call last)",
      "\u001b[1;32m/home/waldendb/ds_projects/causes_of_death/causes_of_death.ipynb Cell 4\u001b[0m in \u001b[0;36m<cell line: 7>\u001b[0;34m()\u001b[0m\n\u001b[1;32m      <a href='vscode-notebook-cell:/home/waldendb/ds_projects/causes_of_death/causes_of_death.ipynb#X11sZmlsZQ%3D%3D?line=4'>5</a>\u001b[0m password \u001b[39m=\u001b[39m \u001b[39m'\u001b[39m\u001b[39mcauses_of_death1\u001b[39m\u001b[39m'\u001b[39m\n\u001b[1;32m      <a href='vscode-notebook-cell:/home/waldendb/ds_projects/causes_of_death/causes_of_death.ipynb#X11sZmlsZQ%3D%3D?line=5'>6</a>\u001b[0m conn \u001b[39m=\u001b[39m \u001b[39mNone\u001b[39;00m\n\u001b[0;32m----> <a href='vscode-notebook-cell:/home/waldendb/ds_projects/causes_of_death/causes_of_death.ipynb#X11sZmlsZQ%3D%3D?line=6'>7</a>\u001b[0m conn \u001b[39m=\u001b[39m connect_to_db(host_name, dbname, port, username, password)\n",
      "\u001b[0;31mNameError\u001b[0m: name 'connect_to_db' is not defined"
     ]
    }
   ],
   "source": [
    "host_name = 'causesdb.ck7qighb1kv8.us-east-1.rds.amazonaws.com'\n",
    "dbname = 'causesdb'\n",
    "port = '5432'\n",
    "username = 'danicaboe'\n",
    "password = 'causes_of_death1'\n",
    "conn = None\n",
    "conn = connect_to_db(host_name, dbname, port, username, password)"
   ]
  },
  {
   "cell_type": "code",
   "execution_count": 33,
   "metadata": {},
   "outputs": [
    {
     "name": "stdout",
     "output_type": "stream",
     "text": [
      "['country', 'country_code', 'year', 'meningitis', 'dementia', \"parkinson's_disease\", 'nutritional_deficiencies', 'malaria', 'drowning', 'interpersonal_violence', 'maternal_disorders', 'hiv/aids', 'drug_use_disorders', 'tuberculosis', 'cardiovascular_diseases', 'lower_respiratory_infections', 'neonatal_disorders', 'alcohol_use_disorders', 'self_harm', 'exposure_to_forces_of_nature', 'diarrheal_diseases', 'environmental_heat_and_cold_exposure', 'neoplasms', 'conflict_and_terrorism', 'diabetes_mellitus', 'chronic_kidney_disease', 'poisonings', 'protein_malnutrition', 'road_injuries', 'chronic_respiratory_diseases', 'cirrhosis_and_other_chronic_liver_diseases', 'digestive_diseases', 'fire_heat', 'acute_hepatitis']\n",
      "204\n"
     ]
    }
   ],
   "source": [
    "# Save list of column in variable to view\n",
    "columns = list(df.columns)\n",
    "print(columns)\n",
    "# create variable to see all the unique countries that are represented.\n",
    "countries = df['country'].unique()\n",
    "# Print the number of unique countries\n",
    "print(df['country'].nunique())\n",
    "# rename specific columns that have unusual charcters or redundunt naming convention or commas.\n",
    "df.rename(columns= {'Country/Territory': 'country', 'Code': 'country_code', 'Protein-Energy Malnutrition': 'protein_malnutrition', 'Alzheimer\\'s Disease and Other Dementias': 'dementia', 'Self-harm': 'self_harm', 'Fire, Heat, and Hot Substances': 'fire_heat'}, inplace=True)\n"
   ]
  },
  {
   "cell_type": "markdown",
   "metadata": {},
   "source": [
    "Edit all column names - change all to lower and replace spaces with underscores."
   ]
  },
  {
   "cell_type": "code",
   "execution_count": 32,
   "metadata": {},
   "outputs": [
    {
     "name": "stdout",
     "output_type": "stream",
     "text": [
      "Index(['country', 'country_code', 'year', 'meningitis', 'dementia',\n",
      "       'parkinson's_disease', 'nutritional_deficiencies', 'malaria',\n",
      "       'drowning', 'interpersonal_violence', 'maternal_disorders', 'hiv/aids',\n",
      "       'drug_use_disorders', 'tuberculosis', 'cardiovascular_diseases',\n",
      "       'lower_respiratory_infections', 'neonatal_disorders',\n",
      "       'alcohol_use_disorders', 'self_harm', 'exposure_to_forces_of_nature',\n",
      "       'diarrheal_diseases', 'environmental_heat_and_cold_exposure',\n",
      "       'neoplasms', 'conflict_and_terrorism', 'diabetes_mellitus',\n",
      "       'chronic_kidney_disease', 'poisonings', 'protein_malnutrition',\n",
      "       'road_injuries', 'chronic_respiratory_diseases',\n",
      "       'cirrhosis_and_other_chronic_liver_diseases', 'digestive_diseases',\n",
      "       'fire_heat', 'acute_hepatitis'],\n",
      "      dtype='object')\n"
     ]
    }
   ],
   "source": [
    "df.columns = df.columns.str.lower().str.strip().str.replace(' ', '_')\n",
    "print(df.columns)"
   ]
  },
  {
   "cell_type": "markdown",
   "metadata": {},
   "source": [
    "See how many years are represented in the data. Check data type for each column."
   ]
  },
  {
   "cell_type": "code",
   "execution_count": 42,
   "metadata": {},
   "outputs": [
    {
     "name": "stdout",
     "output_type": "stream",
     "text": [
      "[1990 1991 1992 1993 1994 1995 1996 1997 1998 1999 2000 2001 2002 2003\n",
      " 2004 2005 2006 2007 2008 2009 2010 2011 2012 2013 2014 2015 2016 2017\n",
      " 2018 2019]\n",
      "<class 'pandas.core.frame.DataFrame'>\n",
      "RangeIndex: 6120 entries, 0 to 6119\n",
      "Data columns (total 34 columns):\n",
      " #   Column                                      Non-Null Count  Dtype \n",
      "---  ------                                      --------------  ----- \n",
      " 0   country                                     6120 non-null   object\n",
      " 1   country_code                                6120 non-null   object\n",
      " 2   year                                        6120 non-null   int64 \n",
      " 3   meningitis                                  6120 non-null   int64 \n",
      " 4   dementia                                    6120 non-null   int64 \n",
      " 5   parkinson's_disease                         6120 non-null   int64 \n",
      " 6   nutritional_deficiencies                    6120 non-null   int64 \n",
      " 7   malaria                                     6120 non-null   int64 \n",
      " 8   drowning                                    6120 non-null   int64 \n",
      " 9   interpersonal_violence                      6120 non-null   int64 \n",
      " 10  maternal_disorders                          6120 non-null   int64 \n",
      " 11  hiv/aids                                    6120 non-null   int64 \n",
      " 12  drug_use_disorders                          6120 non-null   int64 \n",
      " 13  tuberculosis                                6120 non-null   int64 \n",
      " 14  cardiovascular_diseases                     6120 non-null   int64 \n",
      " 15  lower_respiratory_infections                6120 non-null   int64 \n",
      " 16  neonatal_disorders                          6120 non-null   int64 \n",
      " 17  alcohol_use_disorders                       6120 non-null   int64 \n",
      " 18  self_harm                                   6120 non-null   int64 \n",
      " 19  exposure_to_forces_of_nature                6120 non-null   int64 \n",
      " 20  diarrheal_diseases                          6120 non-null   int64 \n",
      " 21  environmental_heat_and_cold_exposure        6120 non-null   int64 \n",
      " 22  neoplasms                                   6120 non-null   int64 \n",
      " 23  conflict_and_terrorism                      6120 non-null   int64 \n",
      " 24  diabetes_mellitus                           6120 non-null   int64 \n",
      " 25  chronic_kidney_disease                      6120 non-null   int64 \n",
      " 26  poisonings                                  6120 non-null   int64 \n",
      " 27  protein_malnutrition                        6120 non-null   int64 \n",
      " 28  road_injuries                               6120 non-null   int64 \n",
      " 29  chronic_respiratory_diseases                6120 non-null   int64 \n",
      " 30  cirrhosis_and_other_chronic_liver_diseases  6120 non-null   int64 \n",
      " 31  digestive_diseases                          6120 non-null   int64 \n",
      " 32  fire_heat                                   6120 non-null   int64 \n",
      " 33  acute_hepatitis                             6120 non-null   int64 \n",
      "dtypes: int64(32), object(2)\n",
      "memory usage: 1.6+ MB\n",
      "None\n"
     ]
    }
   ],
   "source": [
    "years = df.year.unique()\n",
    "print(years)\n",
    "print(df.info())"
   ]
  },
  {
   "cell_type": "markdown",
   "metadata": {},
   "source": [
    "Check for null values in each column."
   ]
  },
  {
   "cell_type": "code",
   "execution_count": null,
   "metadata": {},
   "outputs": [],
   "source": []
  }
 ],
 "metadata": {
  "kernelspec": {
   "display_name": "Python 3.9.13 ('myenv')",
   "language": "python",
   "name": "python3"
  },
  "language_info": {
   "codemirror_mode": {
    "name": "ipython",
    "version": 3
   },
   "file_extension": ".py",
   "mimetype": "text/x-python",
   "name": "python",
   "nbconvert_exporter": "python",
   "pygments_lexer": "ipython3",
   "version": "3.9.13"
  },
  "orig_nbformat": 4,
  "vscode": {
   "interpreter": {
    "hash": "c3d8a8be75f9e7e90c92f56a26dc284ac664b6f4edfe25f866cebb8c85a664d9"
   }
  }
 },
 "nbformat": 4,
 "nbformat_minor": 2
}
